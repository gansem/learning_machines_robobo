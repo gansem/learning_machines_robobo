{
 "metadata": {
  "language_info": {
   "codemirror_mode": {
    "name": "ipython",
    "version": 3
   },
   "file_extension": ".py",
   "mimetype": "text/x-python",
   "name": "python",
   "nbconvert_exporter": "python",
   "pygments_lexer": "ipython3",
   "version": "3.7.9-final"
  },
  "orig_nbformat": 2,
  "kernelspec": {
   "name": "python3",
   "display_name": "Python 3.7.9 64-bit",
   "metadata": {
    "interpreter": {
     "hash": "0600588c3b5f4418cbe7b5ebc6825b479f3bc010269d8b60d75058cdd010adfe"
    }
   }
  }
 },
 "nbformat": 4,
 "nbformat_minor": 2,
 "cells": [
  {
   "cell_type": "code",
   "execution_count": 17,
   "metadata": {},
   "outputs": [],
   "source": [
    "import seaborn as sns\n",
    "import matplotlib.pyplot as plt\n",
    "%matplotlib inline  \n",
    "import pandas as pd\n",
    "\n",
    "df = pd.read_csv('../data/learning_progress.tsv', sep='\\t')"
   ]
  },
  {
   "cell_type": "code",
   "execution_count": 18,
   "metadata": {},
   "outputs": [
    {
     "output_type": "execute_result",
     "data": {
      "text/plain": [
       "       accu_reward  accu_v_measure_sensor_distance  action_index  \\\n",
       "index                                                              \n",
       "0        -0.315420                        1.427792           3.0   \n",
       "1        -0.564257                        2.855538           3.0   \n",
       "2        -0.720210                        4.298616           1.0   \n",
       "3        -1.004477                        5.745502           3.0   \n",
       "4        -1.146747                        7.174950           2.0   \n",
       "\n",
       "       episode_index  object_in_range  \\\n",
       "index                                   \n",
       "0                0.0              1.0   \n",
       "1                0.0              1.0   \n",
       "2                0.0              1.0   \n",
       "3                0.0              1.0   \n",
       "4                0.0              1.0   \n",
       "\n",
       "                                 observations:    reward  \\\n",
       "index                                                      \n",
       "0      [0.25, 0.17220824472480445, 0.25, 0.25] -0.315420   \n",
       "1      [0.25, 0.17225361363311192, 0.25, 0.25] -0.248837   \n",
       "2      [0.25, 0.15692177734338897, 0.25, 0.25] -0.155954   \n",
       "3       [0.25, 0.1531146641302032, 0.25, 0.25] -0.284267   \n",
       "4       [0.25, 0.1705517172458273, 0.25, 0.25] -0.142270   \n",
       "\n",
       "       v_measure_calc_distance  v_measure_sensor_distance  \n",
       "index                                                      \n",
       "0                         1.25                   1.427792  \n",
       "1                         2.50                   1.427746  \n",
       "2                         2.50                   1.443078  \n",
       "3                         3.75                   1.446885  \n",
       "4                         3.75                   1.429448  "
      ],
      "text/html": "<div>\n<style scoped>\n    .dataframe tbody tr th:only-of-type {\n        vertical-align: middle;\n    }\n\n    .dataframe tbody tr th {\n        vertical-align: top;\n    }\n\n    .dataframe thead th {\n        text-align: right;\n    }\n</style>\n<table border=\"1\" class=\"dataframe\">\n  <thead>\n    <tr style=\"text-align: right;\">\n      <th></th>\n      <th>accu_reward</th>\n      <th>accu_v_measure_sensor_distance</th>\n      <th>action_index</th>\n      <th>episode_index</th>\n      <th>object_in_range</th>\n      <th>observations:</th>\n      <th>reward</th>\n      <th>v_measure_calc_distance</th>\n      <th>v_measure_sensor_distance</th>\n    </tr>\n    <tr>\n      <th>index</th>\n      <th></th>\n      <th></th>\n      <th></th>\n      <th></th>\n      <th></th>\n      <th></th>\n      <th></th>\n      <th></th>\n      <th></th>\n    </tr>\n  </thead>\n  <tbody>\n    <tr>\n      <th>0</th>\n      <td>-0.315420</td>\n      <td>1.427792</td>\n      <td>3.0</td>\n      <td>0.0</td>\n      <td>1.0</td>\n      <td>[0.25, 0.17220824472480445, 0.25, 0.25]</td>\n      <td>-0.315420</td>\n      <td>1.25</td>\n      <td>1.427792</td>\n    </tr>\n    <tr>\n      <th>1</th>\n      <td>-0.564257</td>\n      <td>2.855538</td>\n      <td>3.0</td>\n      <td>0.0</td>\n      <td>1.0</td>\n      <td>[0.25, 0.17225361363311192, 0.25, 0.25]</td>\n      <td>-0.248837</td>\n      <td>2.50</td>\n      <td>1.427746</td>\n    </tr>\n    <tr>\n      <th>2</th>\n      <td>-0.720210</td>\n      <td>4.298616</td>\n      <td>1.0</td>\n      <td>0.0</td>\n      <td>1.0</td>\n      <td>[0.25, 0.15692177734338897, 0.25, 0.25]</td>\n      <td>-0.155954</td>\n      <td>2.50</td>\n      <td>1.443078</td>\n    </tr>\n    <tr>\n      <th>3</th>\n      <td>-1.004477</td>\n      <td>5.745502</td>\n      <td>3.0</td>\n      <td>0.0</td>\n      <td>1.0</td>\n      <td>[0.25, 0.1531146641302032, 0.25, 0.25]</td>\n      <td>-0.284267</td>\n      <td>3.75</td>\n      <td>1.446885</td>\n    </tr>\n    <tr>\n      <th>4</th>\n      <td>-1.146747</td>\n      <td>7.174950</td>\n      <td>2.0</td>\n      <td>0.0</td>\n      <td>1.0</td>\n      <td>[0.25, 0.1705517172458273, 0.25, 0.25]</td>\n      <td>-0.142270</td>\n      <td>3.75</td>\n      <td>1.429448</td>\n    </tr>\n  </tbody>\n</table>\n</div>"
     },
     "metadata": {},
     "execution_count": 18
    }
   ],
   "source": [
    "# rename index col\r\n",
    "df = df.rename(columns={'Unnamed: 0': 'index'}).set_index('index')\r\n",
    "df.head()"
   ]
  },
  {
   "cell_type": "code",
   "execution_count": 42,
   "metadata": {},
   "outputs": [
    {
     "output_type": "error",
     "ename": "SyntaxError",
     "evalue": "invalid syntax (<ipython-input-42-c60d778abc5a>, line 7)",
     "traceback": [
      "\u001b[1;36m  File \u001b[1;32m\"<ipython-input-42-c60d778abc5a>\"\u001b[1;36m, line \u001b[1;32m7\u001b[0m\n\u001b[1;33m    _df = _df.append({'episode': int(k), 'accu_reward': v['accu_reward'].sum(), 'accu_v_measure_sensor_distance'=v['accu_v_measure_sensor_distance'].sum()}, ignore_index=True)\u001b[0m\n\u001b[1;37m                                                                                                                ^\u001b[0m\n\u001b[1;31mSyntaxError\u001b[0m\u001b[1;31m:\u001b[0m invalid syntax\n"
     ]
    }
   ],
   "source": [
    "# fig, ax = plt.subplots(figsize=(10,5))\n",
    "\n",
    "\n",
    "# group per episode and append to new df\n",
    "_df = pd.DataFrame()\n",
    "for k,v in df.groupby('episode_index'):\n",
    "    _df = _df.append({'episode': int(k), 'accu_reward': v['accu_reward'].sum(), 'accu_v_measure_sensor_distance': v['accu_v_measure_sensor_distance'].sum()}, ignore_index=True)\n",
    "\n",
    "_df\n"
   ]
  },
  {
   "cell_type": "code",
   "execution_count": null,
   "metadata": {},
   "outputs": [],
   "source": [
    "\n",
    "sns.lineplot(data=df, x='episode_index', y=['accu_reward', 'accu_v_measure_sensor_distance'])"
   ]
  },
  {
   "cell_type": "code",
   "execution_count": null,
   "metadata": {},
   "outputs": [],
   "source": []
  }
 ]
}